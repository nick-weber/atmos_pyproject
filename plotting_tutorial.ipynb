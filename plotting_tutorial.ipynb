{
 "cells": [
  {
   "cell_type": "markdown",
   "metadata": {},
   "source": [
    "# Plotting data in Python"
   ]
  },
  {
   "cell_type": "markdown",
   "metadata": {},
   "source": [
    "In this brief tutorial, you will learn how to create line plots, contour plots, and map-projected contour plots using Python. What you are looking at right now is called a Jupyter Notebook, which is a handy, interactive, browser-based IDE (of sorts). Here, you will be able to run individual blocks (or, rather, \"cells\") of code and see the output directly below the cell, which is great for making plots. The code that I've supplied is heavily commented, which will hopefully help users understand what is happening in each line of code."
   ]
  },
  {
   "cell_type": "markdown",
   "metadata": {},
   "source": [
    "Before we get started, write a simple print statement (e.g., \"print('Hello World!')\") in the code cell below, then run it by pressing Shift + Enter."
   ]
  },
  {
   "cell_type": "code",
   "execution_count": null,
   "metadata": {
    "collapsed": false
   },
   "outputs": [],
   "source": [
    "# write a print statement below:\n"
   ]
  },
  {
   "cell_type": "markdown",
   "metadata": {},
   "source": [
    "Neat! The output is displayed directly below the cell. From here on out, whenever you encounter a cell with code in it, click inside the cell and press Shift + Enter to execute it (and see its output, if there is any). Now that we've very quickly become familiarized with Jupyter Notebooks, let's get started with some plotting."
   ]
  },
  {
   "cell_type": "markdown",
   "metadata": {},
   "source": [
    "# Making a simple line plot"
   ]
  },
  {
   "cell_type": "markdown",
   "metadata": {},
   "source": [
    "Okay, let's start by importing the powerful matplotlib plotting tools, which you will likely use in almost every plotting script you write. Let's also import numpy because we will almost certainly use it's wide array of mathematical functions and objects at some point. Simply run the block of code below to do this."
   ]
  },
  {
   "cell_type": "code",
   "execution_count": null,
   "metadata": {
    "collapsed": false
   },
   "outputs": [],
   "source": [
    "import matplotlib.pyplot as plt  # we have aliased this package as \"plt\" for brevity\n",
    "import numpy as np               # same here; numpy is conventionally imported as \"np\"\n",
    "%matplotlib inline               \n",
    "# ^ this line simply makes it so that our figures will display \"inline\", or  within this notebook"
   ]
  },
  {
   "cell_type": "markdown",
   "metadata": {},
   "source": [
    "### Single-panel plots"
   ]
  },
  {
   "cell_type": "markdown",
   "metadata": {},
   "source": [
    "Great, now we have access to some math and plotting tools. Let's start by plotting a simple sine curve on an X-Y axis. Before we plot anything, we need data to plot. So first, we create some x-data and y-data:"
   ]
  },
  {
   "cell_type": "code",
   "execution_count": null,
   "metadata": {
    "collapsed": true
   },
   "outputs": [],
   "source": [
    "# linspace() is a useful function for creating a 1D array of increasing values\n",
    "x = np.linspace(0, 2*np.pi, 30) # a numpy array of 30 floats, ranging from 0 to 2*pi (i.e., radians)\n",
    "y = np.sin(x)                   # y is simply the sin of x"
   ]
  },
  {
   "cell_type": "markdown",
   "metadata": {},
   "source": [
    "Ok, now we can plot our data. I will show you the very simplest way to do this first in the following block:"
   ]
  },
  {
   "cell_type": "code",
   "execution_count": null,
   "metadata": {
    "collapsed": false
   },
   "outputs": [],
   "source": [
    "plt.figure()   # creates a new matplotlib Figure object\n",
    "plt.plot(x,y)  # plots our x-y data onto that figure using the plot() function\n",
    "plt.show()     # displays the figure using the show() function"
   ]
  },
  {
   "cell_type": "markdown",
   "metadata": {},
   "source": [
    "And there you have it: a nice sine curve on an X-Y axis. Below is another block of code that does the exact same thing, but is a bit more precise in how the matplotlib object(s) are handled. I prefer to create plots using the following methodology:"
   ]
  },
  {
   "cell_type": "code",
   "execution_count": null,
   "metadata": {
    "collapsed": false
   },
   "outputs": [],
   "source": [
    "# The following line calls the subplots() function, which also creates a matplotlib Figure object (just as before),\n",
    "# except this time we are storing that object into the variable \"fig\". Further, this function also creates a\n",
    "# matplotlib Axes object (or multiple, as we will see later!), which we are storing in the variable \"ax\". We are\n",
    "# telling the function that we only want one row and one column, resulting in one axis overall.\n",
    "fig, ax = plt.subplots(nrows=1, ncols=1)\n",
    "ax.plot(x,y) # same as the previous block, but now we are telling it to plot on this axis specifically\n",
    "plt.show()   # exactly the same as the previous block"
   ]
  },
  {
   "cell_type": "markdown",
   "metadata": {},
   "source": [
    "See? Same result, but with a bit more clarity regarding what axis you're plotting on (which is very useful when you're plotting on multiple axes)."
   ]
  },
  {
   "cell_type": "markdown",
   "metadata": {},
   "source": [
    "This plot is a bit boring, however, and can use some sprucing up. Let's make the same plot below, but with some labels, grid lines, and a title."
   ]
  },
  {
   "cell_type": "code",
   "execution_count": null,
   "metadata": {
    "collapsed": false
   },
   "outputs": [],
   "source": [
    "# We're using the subplots() function again, but this time we are specifying a figure size: 6\" wide, 4\" tall.\n",
    "# We did not specify \"nrows\" or \"ncols\" this time because 1 is the default for both.\n",
    "fig, ax = plt.subplots(figsize=(6,4))\n",
    "ax.plot(x, y, color='red', linestyle='--') # let's go for a red dashed line this time\n",
    "ax.grid() # turns on grid lines\n",
    "ax.set_xlabel('x values')  # label the x-axis with a string\n",
    "ax.set_ylabel('y values')  # do the same for the y-axis\n",
    "ax.set_title('a simple sine curve') # the title goes above the figure\n",
    "plt.show()"
   ]
  },
  {
   "cell_type": "markdown",
   "metadata": {},
   "source": [
    "### Okay, it's your turn"
   ]
  },
  {
   "cell_type": "markdown",
   "metadata": {},
   "source": [
    "In the cell below, write and run code that plots a cosine curve for x-values ranging from -2pi to +2pi. Feel free to stylize the plot (e.g., colors, labels) however you wish."
   ]
  },
  {
   "cell_type": "code",
   "execution_count": null,
   "metadata": {
    "collapsed": true
   },
   "outputs": [],
   "source": [
    "# TODO: create x and y variables with the data\n",
    "\n",
    "# TODO: plot that data! (you can use either method used above)\n",
    "\n",
    "# TODO: add some labels, and whatever title you please\n"
   ]
  },
  {
   "cell_type": "markdown",
   "metadata": {},
   "source": [
    "### Multi-panel plots"
   ]
  },
  {
   "cell_type": "markdown",
   "metadata": {},
   "source": [
    "Next, we will do the same thing we just did above, but we will plot three different data series on three different axes, all within the same figure. First, let's make some data to plot:"
   ]
  },
  {
   "cell_type": "code",
   "execution_count": null,
   "metadata": {
    "collapsed": false
   },
   "outputs": [],
   "source": [
    "x = np.linspace(0,10,30) # a numpy array of 30 floats, ranging from 0 to 10\n",
    "y1 = np.sin(x)           # a simple sine curve (just as we did before)\n",
    "y2 = 14 - 2*x            # a simple line with a y-intercept of 14 and a slope of -2\n",
    "y3 = x**2                # a quadratic function (x^2)"
   ]
  },
  {
   "cell_type": "markdown",
   "metadata": {},
   "source": [
    "We now have three y data series (y1, y2, and y3), which all correspond to the same x-values. Time to plot these on three different axes."
   ]
  },
  {
   "cell_type": "code",
   "execution_count": null,
   "metadata": {
    "collapsed": false
   },
   "outputs": [],
   "source": [
    "# Here, we use the subplots() function to, again, create one Figure object (fig); however, this time we have\n",
    "# told the function to give us multiple Axes objects corresponding to three different columns, which we have\n",
    "# store in the variable \"axes\". Specifically, the variable \"axes\" is a List of Axis objects.\n",
    "fig, axes = plt.subplots(ncols=3, figsize=(8,3)) # 8\" wide, 3\" tall\n",
    "\n",
    "# Now, we plot y1, y2, and y3 on the different Axis objects in the List \"axes\"\n",
    "axes[0].plot(x, y1, color='red')\n",
    "#    ^ recall that python is ZERO-based, meaning the first element in a list has the index \"0\"\n",
    "axes[1].plot(x, y2, color='green')\n",
    "axes[2].plot(x, y3, color='blue')\n",
    "\n",
    "# We can also label/title these Axes individually, if we wish:\n",
    "axes[0].set_title('sin(x)')\n",
    "axes[1].set_title('14 - 2x')\n",
    "axes[2].set_title('x^2')\n",
    "# Let's only put a y labe on the left-most axis, so it looks cleaner\n",
    "axes[0].set_ylabel('y values') \n",
    "\n",
    "# We can also apply stylizations to all the Axes by using a \"for loop\":\n",
    "for ax in axes:\n",
    "    ax.grid()  # make all axes have grid lines\n",
    "    ax.set_xlabel('x values') # make all axes have x labels\n",
    "    \n",
    "plt.show()"
   ]
  },
  {
   "cell_type": "markdown",
   "metadata": {},
   "source": [
    "There are many, many other ways we could stylize these plots (e.g., changing the spacing between axes, changing the title/label locations, having the axes share the same y-grid), but as you can see, we can make a pretty nice-looking plot with relatively few lines of code."
   ]
  },
  {
   "cell_type": "markdown",
   "metadata": {},
   "source": [
    "### Your turn!"
   ]
  },
  {
   "cell_type": "markdown",
   "metadata": {},
   "source": [
    "Create a four-panel plot (4 columns, or 4 rows if you wish) with a different function plotted in each panel:\n",
    " - natural log of x (*np.log(x)*)\n",
    " - a linear polynomial\n",
    " - a nonlinear polynomial\n",
    " - whatever else you'd like!\n",
    " \n",
    "Write/run your code in the cell below:"
   ]
  },
  {
   "cell_type": "code",
   "execution_count": null,
   "metadata": {
    "collapsed": true
   },
   "outputs": [],
   "source": [
    "# TODO: create your x and y data arrays (1D)\n",
    "\n",
    "# TODO: create your figure and axes\n",
    "\n",
    "# TODO: plot different data on each axis\n",
    "\n",
    "# TODO: stylize the axes with titles, grid lines, and labels\n"
   ]
  },
  {
   "cell_type": "markdown",
   "metadata": {},
   "source": [
    "# Contouring 2-dimensional data"
   ]
  },
  {
   "cell_type": "markdown",
   "metadata": {},
   "source": [
    "In this section, you will learn how to make 2D contour and contour-fill plots using matplotlib. This is *particularly* useful for atmospheric sciences applications, as this enables you to display 2D fields of temperature, pressure, and other atmospheric variables."
   ]
  },
  {
   "cell_type": "markdown",
   "metadata": {},
   "source": [
    "As before, we need to create some data first. Let's plot a 2D cosine function."
   ]
  },
  {
   "cell_type": "code",
   "execution_count": null,
   "metadata": {
    "collapsed": false
   },
   "outputs": [],
   "source": [
    "# arange() is another way to make a 1D numpy array of data. This function makes an array of floats ranging from -5.0\n",
    "# to (but NOT including) 5.1, with an interval of 0.1\n",
    "x = np.arange(-5, 5.1, 0.1) \n",
    "y = np.arange(-5, 5.1, 0.1) \n",
    "# now let's use the meshgrid() function to make these 2D arrays, giving the x,y coordinate at each point\n",
    "X, Y = np.meshgrid(x,y)\n",
    "\n",
    "# finally, let's make our Z values the sum of the sine of the X and Y coordinates\n",
    "Z = np.sin(X) + np.sin(Y)\n",
    "\n",
    "# let's look at the shapes of our data\n",
    "print('SHAPES!', 'x:', np.shape(x), 'X:', np.shape(X), 'Z:', np.shape(Z))"
   ]
  },
  {
   "cell_type": "markdown",
   "metadata": {},
   "source": [
    "Great, now we have some 2D data (and corresponding 2D coordinates) to plot. So let's dive right in to using the matplotlib *contour()* function with the Figure and Axes objects we used in the previous section."
   ]
  },
  {
   "cell_type": "code",
   "execution_count": null,
   "metadata": {
    "collapsed": false
   },
   "outputs": [],
   "source": [
    "fig, ax = plt.subplots(figsize=(6,6)) # 6\" wide, 6\" tall\n",
    "\n",
    "# Here, we call contour() to contour our data onto our Axes object \"ax\"\n",
    "ax.contour(X, Y, Z) # x and y coordinates go first, then the actual values at those coordinates\n",
    "\n",
    "plt.show()"
   ]
  },
  {
   "cell_type": "markdown",
   "metadata": {},
   "source": [
    "Voilà! We've contoured a 2D sine field. As before, we can dress up the plot with grid lines, axis labels, and a title. We can also choose the color of our contours."
   ]
  },
  {
   "cell_type": "code",
   "execution_count": null,
   "metadata": {
    "collapsed": false
   },
   "outputs": [],
   "source": [
    "fig, ax = plt.subplots(figsize=(6,6)) # same as above\n",
    "ax.contour(X, Y, Z, colors='red')     # here we've specified a color for the contours: red\n",
    "# Dressing up the plot, as we did previously:\n",
    "ax.set_xlabel('x coordinate')\n",
    "ax.set_ylabel('y coordinate')\n",
    "ax.set_title('2D cosine field')\n",
    "ax.grid()\n",
    "plt.show()"
   ]
  },
  {
   "cell_type": "markdown",
   "metadata": {},
   "source": [
    "Notice that, by default, negative values are dashed. We can change this by adding the keyword \"*linesyles='-'*\" to the *contour()* command (this forces all lines to be solid). We can also specify what specific levels we would like to contour:"
   ]
  },
  {
   "cell_type": "code",
   "execution_count": null,
   "metadata": {
    "collapsed": false
   },
   "outputs": [],
   "source": [
    "levs = [-1.5, -1.0, -.5, .5, 1.0, 1.5] # list of contouring levels\n",
    "\n",
    "fig, ax = plt.subplots(figsize=(6,6)) # same as above\n",
    "# Now, we specify a color (blue), a linestyle (solid), and specific contouring levels (\"levs\")\n",
    "ax.contour(X, Y, Z, colors='blue', linestyles='-', levels=levs)\n",
    "\n",
    "# Dressing up the plot, as we did previously:\n",
    "ax.set_xlabel('x coordinate')\n",
    "ax.set_ylabel('y coordinate')\n",
    "ax.set_title('2D cosine field')\n",
    "ax.grid()\n",
    "plt.show()"
   ]
  },
  {
   "cell_type": "markdown",
   "metadata": {},
   "source": [
    "Next, we replace the *contour()* function with the *contourf()* function to do a contour fill instead of solid-line contours. *contourf()* takes similary arguments, but we will change/add a couple below:"
   ]
  },
  {
   "cell_type": "code",
   "execution_count": null,
   "metadata": {
    "collapsed": false
   },
   "outputs": [],
   "source": [
    "fig, ax = plt.subplots(figsize=(6,6)) # same as above\n",
    "# Let's contour-fill the same levels we established in the previous code block.\n",
    "# the \"extend\"  keyword indicates that the colors can go beyond the max/min of our predefined levels (\"levs\")\n",
    "ax.contourf(X, Y, Z, levels=levs, extend='both') \n",
    "\n",
    "# Dressing up the plot, as we did previously:\n",
    "ax.set_xlabel('x coordinate')\n",
    "ax.set_ylabel('y coordinate')\n",
    "ax.set_title('2D cosine field')\n",
    "ax.grid()\n",
    "plt.show()"
   ]
  },
  {
   "cell_type": "markdown",
   "metadata": {},
   "source": [
    "Cool! Let's make one more figure, where we include a colorbar AND we make white contours *on top of* our contour-fills."
   ]
  },
  {
   "cell_type": "code",
   "execution_count": null,
   "metadata": {
    "collapsed": false
   },
   "outputs": [],
   "source": [
    "fig, ax = plt.subplots(figsize=(6,6)) # same as above\n",
    "# We are now saving the \"ContourSet\" object into the variable \"cs\" which we will hand to the colorbar() function\n",
    "cs = ax.contourf(X, Y, Z, levels=levs, extend='both') \n",
    "\n",
    "# Let's contour the data over the fills\n",
    "ax.contour(X, Y, Z, levels=levs, colors='white', linestyles='-')\n",
    "\n",
    "# Add a colorbar\n",
    "plt.colorbar(cs) # hand it the variable \"cs\" so it knows the contour-fill levels\n",
    "\n",
    "# Dressing up the plot, as we did previously:\n",
    "ax.set_xlabel('x coordinate')\n",
    "ax.set_ylabel('y coordinate')\n",
    "ax.set_title('2D cosine field')\n",
    "ax.grid()\n",
    "plt.show()"
   ]
  },
  {
   "cell_type": "markdown",
   "metadata": {},
   "source": [
    "You can find more Python contouring examples here: https://matplotlib.org/examples/pylab_examples/contour_demo.html"
   ]
  },
  {
   "cell_type": "markdown",
   "metadata": {},
   "source": [
    "### Your turn!"
   ]
  },
  {
   "cell_type": "markdown",
   "metadata": {},
   "source": [
    "In the cell below, write code to contour *and* contour-fill the function: Z = (X^2 + Y^2) ^ 0.5"
   ]
  },
  {
   "cell_type": "code",
   "execution_count": null,
   "metadata": {
    "collapsed": true
   },
   "outputs": [],
   "source": [
    "# TODO: create 2-D X, Y, and Z arrays with numpy; define contouring levels\n",
    "\n",
    "# TODO: create a figure and axis\n",
    "\n",
    "# TODO: contour-fill and contour the data; use the \"cmap\" argument in the contourf() function to change the\n",
    "#       colormap (plt.cm.\"colormap_name\"). See colormaps here: \n",
    "#       https://matplotlib.org/examples/color/colormaps_reference.html\n",
    "\n",
    "# TODO: add a colorbar and any other style options you wish (labels, grid lines, etc.)\n"
   ]
  },
  {
   "cell_type": "markdown",
   "metadata": {},
   "source": [
    "# Projecting data onto a map"
   ]
  },
  {
   "cell_type": "markdown",
   "metadata": {},
   "source": [
    "Time for things to get even more interesting! With Python, we can make plots similar to the contours/fills we just made above, but with the data projected onto a geographical map (many different projections are available). We can do this using the matplotlib basemap toolkit."
   ]
  },
  {
   "cell_type": "markdown",
   "metadata": {},
   "source": [
    "Once again, we start by making up some data. Here, we will make x and y coordinates that correspond to latitudes and longitudes. "
   ]
  },
  {
   "cell_type": "code",
   "execution_count": null,
   "metadata": {
    "collapsed": false
   },
   "outputs": [],
   "source": [
    "lats = np.arange(10, 81, 1) # lat range: 20N to 80N, 1-degree resolution\n",
    "lons = np.arange(-60, 61, 1) # lon range: 60W to 60E, 1-degree resolution\n",
    "# Create 2D X and Y coordinates using meshgrid()\n",
    "X, Y = np.meshgrid(lons, lats)\n",
    "\n",
    "# Our Z values will be a wavey pattern around the north pole\n",
    "wave = 0.75*(np.sin(2.*np.deg2rad(Y))**8*np.cos(4.*np.deg2rad(X)))\n",
    "mean = 0.5*np.cos(2.*np.deg2rad(Y))*((np.sin(2.*np.deg2rad(Y)))**2 + 2.)\n",
    "Z = wave + mean\n",
    "print('DATA SHAPE:', np.shape(Z))"
   ]
  },
  {
   "cell_type": "markdown",
   "metadata": {},
   "source": [
    "Next, we need to import the basemap toolkit in order to project data onto a map. (Note: imports are conventionally done at the beginning of Python scripts/functions, but you *can* put them anywhere.)"
   ]
  },
  {
   "cell_type": "code",
   "execution_count": null,
   "metadata": {
    "collapsed": true
   },
   "outputs": [],
   "source": [
    "from mpl_toolkits.basemap import Basemap"
   ]
  },
  {
   "cell_type": "markdown",
   "metadata": {},
   "source": [
    "Great! Now let's use the Basemap class we just imported to create a Lambert Conformal projection over Western Europe:"
   ]
  },
  {
   "cell_type": "code",
   "execution_count": null,
   "metadata": {
    "collapsed": true
   },
   "outputs": [],
   "source": [
    "# We are centering our projection on 45N, 0E. Our window is 8000 km wide and 5000 km tall.\n",
    "# For more information on this projection, see: https://matplotlib.org/basemap/users/lcc.html\n",
    "m = Basemap(width=8000000, height=5000000, projection='lcc',\n",
    "            resolution='l', lat_1=45., lat_2=55, lat_0=45, lon_0=0.)"
   ]
  },
  {
   "cell_type": "markdown",
   "metadata": {},
   "source": [
    "\"m\" is our new Basemap object, which we will use to project our X and Y coordinates in the following line:"
   ]
  },
  {
   "cell_type": "code",
   "execution_count": null,
   "metadata": {
    "collapsed": true
   },
   "outputs": [],
   "source": [
    "# Projecting coordinates is quite simple! Simply feed the 2-D lon and lat arrays to the Basemap object (\"m\"), \n",
    "# and it will return the transformed coordinates\n",
    "XX, YY = m(X,Y) "
   ]
  },
  {
   "cell_type": "markdown",
   "metadata": {},
   "source": [
    "Now we can do a contour plot, just as above, but using our map-projected x and y coordinates"
   ]
  },
  {
   "cell_type": "code",
   "execution_count": null,
   "metadata": {
    "collapsed": false
   },
   "outputs": [],
   "source": [
    "fig, ax = plt.subplots() # we'll let matplotlib choose it's own figure size here\n",
    "ax.contour(XX, YY, Z)\n",
    "plt.show()"
   ]
  },
  {
   "cell_type": "markdown",
   "metadata": {},
   "source": [
    "Well, that's not very exciting. Sure, we see our waves, but where is the map? Well, we need to use the functions built in to our Basemap object (\"m\") to draw it! So let's try again:"
   ]
  },
  {
   "cell_type": "code",
   "execution_count": null,
   "metadata": {
    "collapsed": false
   },
   "outputs": [],
   "source": [
    "fig, ax = plt.subplots() # we'll let matplotlib choose it's own figure size here\n",
    "ax.contour(XX, YY, Z)\n",
    "m.drawcoastlines(color='black') # let's draw coastlines in black\n",
    "plt.show()"
   ]
  },
  {
   "cell_type": "markdown",
   "metadata": {},
   "source": [
    "Ah, there we go! Now let's make one more figure, but this time we will do a contour-fill, add state/country lines, latitude/longitude lines, and a title."
   ]
  },
  {
   "cell_type": "code",
   "execution_count": null,
   "metadata": {
    "collapsed": false
   },
   "outputs": [],
   "source": [
    "cmap = plt.cm.jet  # let's try a different colormap this time\n",
    "\n",
    "# Create/plot onto figure/axis\n",
    "fig, ax = plt.subplots(figsize=(10,6)) # set a figsize so it shows up a bit larger\n",
    "cs = ax.contourf(XX, YY, Z, cmap=cmap, extend='both') # contour FILL\n",
    "\n",
    "# Add map properties\n",
    "m.drawcoastlines(color='black')\n",
    "m.drawcountries(color='black')\n",
    "m.drawstates(color='black')\n",
    "# the following two lines draw lat/lon lines every 10/20 degrees, respectively\n",
    "m.drawparallels(np.arange(0.,81,10.), dashes=[2,1], labels=[1,0,0,0])  # labels on the left\n",
    "m.drawmeridians(np.arange(0.,360,20.), dashes=[2,1], labels=[0,0,0,1]) # labels on the bottom\n",
    "\n",
    "plt.colorbar(cs) # add the colorbar!\n",
    "plt.show()"
   ]
  },
  {
   "cell_type": "markdown",
   "metadata": {},
   "source": [
    "You can find more examples of plotting using Basemap here: https://matplotlib.org/basemap/users/examples.html"
   ]
  },
  {
   "cell_type": "markdown",
   "metadata": {},
   "source": [
    "### You guessed it: it's your turn!"
   ]
  },
  {
   "cell_type": "markdown",
   "metadata": {},
   "source": [
    "Time to get your feet wet with plotting real, atmospheric data onto a map. Here, we will load some NARR analysis temperature data, project it onto a Lambert Conformal projection, and display it on a map."
   ]
  },
  {
   "cell_type": "code",
   "execution_count": null,
   "metadata": {
    "collapsed": false
   },
   "outputs": [],
   "source": [
    "# FIRST, I will load some lat/lon/temperature data for you from the NARR netcdf file\n",
    "# in the \"data\" directory.\n",
    "from netCDF4 import Dataset   # this library is for loading/manipulating netcdf-format data\n",
    "datafile = 'data/narr_oct2010.nc'\n",
    "with Dataset(datafile, 'r') as ncdata:\n",
    "    lat = ncdata.variables['lat'][:,:]     # 2-D array of latitudes\n",
    "    lon = ncdata.variables['lon'][:,:]     # 2-D array of longitudes\n",
    "    temp = ncdata.variables['t2m'][11,:,:] # 2-D array of temperatures (Celsius) at time #11\n",
    "# Now we have identically-shaped 2-D arrays of lats, lons, and temps!    \n",
    "\n",
    "\n",
    "#======= Your code goes below ========================================================================= \n",
    "# TODO: Create a Basemap object. Use the 'Lambert Conformal' projection and have the domain cover North America.\n",
    "#       see https://matplotlib.org/basemap/users/lcc.html for an example Lamb. Conf. projection.\n",
    "\n",
    "# TODO: Project your lat/lon coordinates onto your Basemap\n",
    "\n",
    "# TODO: Create your figure/axis and plot the temperature data\n",
    "\n",
    "# TODO: Draw states/countries/coastlines/etc. on your map\n",
    "\n",
    "# TODO: Add a colorbar and any other labels/titles you wish\n"
   ]
  },
  {
   "cell_type": "markdown",
   "metadata": {},
   "source": [
    "# Closing remarks"
   ]
  },
  {
   "cell_type": "markdown",
   "metadata": {},
   "source": [
    "Nice work! You've completed this very brief introduction to plotting geophysical data using Python. This notebook should help you get through this project more easily. There are, of course, plenty of other resources that can help you as you learn to work/plot with Python, including:\n",
    " - https://www.google.com/ That's right! Google is your very best friend when you're struggling with coding problems (e.g., How do I use this function? Is there a way I can do [name mathematical operation] in Python? Has anyone else run into this error message?)\n",
    " - http://nbviewer.jupyter.org/github/jrjohansson/scientific-python-lectures/blob/master/Lecture-4-Matplotlib.ipynb - An excellent notebook about plotting in Python\n",
    " - http://nbviewer.jupyter.org/github/jrjohansson/scientific-python-lectures/blob/master/Lecture-2-Numpy.ipynb - An excellent notebook about using Numpy\n",
    " - https://matplotlib.org/basemap/users/examples.html - Examples of plotting data on a map\n",
    " \n",
    "Best of luck with the rest of the project!"
   ]
  },
  {
   "cell_type": "code",
   "execution_count": null,
   "metadata": {
    "collapsed": true
   },
   "outputs": [],
   "source": []
  }
 ],
 "metadata": {
  "kernelspec": {
   "display_name": "Python 3",
   "language": "python",
   "name": "python3"
  },
  "language_info": {
   "codemirror_mode": {
    "name": "ipython",
    "version": 3
   },
   "file_extension": ".py",
   "mimetype": "text/x-python",
   "name": "python",
   "nbconvert_exporter": "python",
   "pygments_lexer": "ipython3",
   "version": "3.6.0"
  }
 },
 "nbformat": 4,
 "nbformat_minor": 2
}
